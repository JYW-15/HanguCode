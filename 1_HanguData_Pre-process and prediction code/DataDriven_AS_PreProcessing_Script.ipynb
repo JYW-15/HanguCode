{
 "cells": [
  {
   "cell_type": "code",
   "execution_count": 5,
   "metadata": {
    "ExecuteTime": {
     "end_time": "2024-07-14T03:37:38.724008Z",
     "start_time": "2024-07-14T03:37:38.715005Z"
    }
   },
   "outputs": [],
   "source": [
    "import pandas as pd\n",
    "import numpy as np \n",
    "from sklearn.metrics import r2_score,mean_squared_error,mean_absolute_error\n",
    "import xgboost as xgb\n",
    "from skopt.space import Real, Categorical, Integer\n",
    "from sklearn.preprocessing import StandardScaler\n",
    "from sklearn.linear_model import LinearRegression\n",
    "from sklearn.svm import SVR\n",
    "from skopt import BayesSearchCV\n",
    "from xgboost import XGBClassifier\n",
    "from sklearn.metrics import confusion_matrix,precision_score,recall_score,f1_score,accuracy_score,roc_auc_score"
   ]
  },
  {
   "cell_type": "code",
   "execution_count": 6,
   "metadata": {
    "ExecuteTime": {
     "end_time": "2024-07-14T03:37:42.892339Z",
     "start_time": "2024-07-14T03:37:42.844627Z"
    }
   },
   "outputs": [],
   "source": [
    "df1 = pd.read_csv('Data.csv')"
   ]
  },
  {
   "cell_type": "code",
   "execution_count": 7,
   "metadata": {
    "ExecuteTime": {
     "end_time": "2024-07-14T03:37:45.182156Z",
     "start_time": "2024-07-14T03:37:45.168533Z"
    }
   },
   "outputs": [],
   "source": [
    "df1['Address'] = df1['Address'].apply(lambda x : 'NA' if pd.isnull(x) else x)\n",
    "df1['Return'] = df1['Visit.No'].apply(lambda x: True if x>1 else False)"
   ]
  },
  {
   "cell_type": "code",
   "execution_count": 8,
   "metadata": {
    "ExecuteTime": {
     "end_time": "2024-07-14T03:37:54.639411Z",
     "start_time": "2024-07-14T03:37:48.613229Z"
    }
   },
   "outputs": [],
   "source": [
    "cal_session = min(df1[df1['Session']==2].index)\n",
    "df1['His.ServTime'] = pd.NA\n",
    "for i in range(cal_session,len(df1)):#Compute Hist. ServTime, starting from Session 2\n",
    "    session = df1.loc[i,'Session']\n",
    "    if df1.loc[i,'Return']:# if it is a Return patient\n",
    "        id = df1.loc[i,'ID']\n",
    "        df_temp = df1[(df1['ID']==id)&(df1['Session']<session)]['ServTime'].values #Only use data from previous sessions\n",
    "        if len(df_temp)!=0:\n",
    "            df1.loc[i,'His.ServTime'] = np.mean(df_temp)\n",
    "        else:\n",
    "            df1.loc[i,'His.ServTime'] = pd.NA #Mark as NA. Will imputate it with 15min (one-slot) later\n",
    "    else:#A new patient\n",
    "        df_temp = df1[(df1['Return']==False)&(df1['Session']<session)]['ServTime'].values\n",
    "        df1.loc[i,'His.ServTime'] = np.mean(df_temp)"
   ]
  },
  {
   "cell_type": "code",
   "execution_count": 9,
   "metadata": {
    "ExecuteTime": {
     "end_time": "2024-07-14T03:37:57.217836Z",
     "start_time": "2024-07-14T03:37:57.202834Z"
    }
   },
   "outputs": [
    {
     "name": "stderr",
     "output_type": "stream",
     "text": [
      "C:\\Users\\JYW2018\\AppData\\Local\\Temp\\ipykernel_29284\\2847841537.py:1: FutureWarning: Downcasting object dtype arrays on .fillna, .ffill, .bfill is deprecated and will change in a future version. Call result.infer_objects(copy=False) instead. To opt-in to the future behavior, set `pd.set_option('future.no_silent_downcasting', True)`\n",
      "  df1['His.ServTime'] = df1['His.ServTime'].fillna(900)#Imputate it with 15min (one-slot)\n"
     ]
    }
   ],
   "source": [
    "df1['His.ServTime'] = df1['His.ServTime'].fillna(900)#Imputate it with 15min (one-slot)"
   ]
  },
  {
   "cell_type": "code",
   "execution_count": 10,
   "metadata": {
    "ExecuteTime": {
     "end_time": "2024-07-14T03:38:15.733713Z",
     "start_time": "2024-07-14T03:38:15.709602Z"
    }
   },
   "outputs": [],
   "source": [
    "train_end_idx = max(df1[df1['Session']==194].index)\n",
    "session1_len = len(df1[df1['Session']==1])\n",
    "def data_process(df,feature,y):\n",
    "    data = df[feature]\n",
    "    data_x = data.drop([y],axis = 1)\n",
    "    data_y = data[y]\n",
    "    x_train = data_x.loc[:train_end_idx,].copy()\n",
    "    x_test = data_x.loc[train_end_idx+1:,].copy()\n",
    "    y_train = data_y.loc[:train_end_idx,].copy()\n",
    "    y_test = data_y.loc[train_end_idx+1:,].copy()\n",
    "    for i in ['His.ServTime','Visit.No']:#standardization of continuous variables\n",
    "        x1 = np.array(x_train.loc[:,i]).reshape(-1,1)\n",
    "        scaler = StandardScaler()\n",
    "        scaler.fit(x1)\n",
    "        x_train[i+'_scaled'] = scaler.transform(x1).reshape(1,-1)[0]\n",
    "        x2 = np.array(x_test.loc[:,i]).reshape(-1,1)\n",
    "        x_test[i+'_scaled'] = scaler.transform(x2).reshape(1,-1)[0]\n",
    "    x_train = x_train.drop(['Visit.No','His.ServTime'],axis = 1)\n",
    "    x_test = x_test.drop(['Visit.No','His.ServTime'],axis = 1)\n",
    "    x_train = pd.get_dummies(x_train,columns = ['Gender','Address'], drop_first=True)#one-hot encoding\n",
    "    x_test = pd.get_dummies(x_test,columns = ['Gender','Address'], drop_first=True)\n",
    "    return x_train, x_test, y_train, y_test"
   ]
  },
  {
   "cell_type": "code",
   "execution_count": 11,
   "metadata": {
    "ExecuteTime": {
     "end_time": "2024-07-14T03:38:21.346581Z",
     "start_time": "2024-07-14T03:38:21.324928Z"
    }
   },
   "outputs": [],
   "source": [
    "input_feature = ['Visit.No','M.Cancer','S.Cancer','Gender','Return','His.ServTime','Address','ServTime']\n",
    "x_train, x_test, y_train, y_test = data_process(df1,input_feature,'ServTime')"
   ]
  },
  {
   "cell_type": "code",
   "execution_count": null,
   "metadata": {},
   "outputs": [],
   "source": []
  }
 ],
 "metadata": {
  "interpreter": {
   "hash": "b573cb20942fc6a3a03bc65843b0c62b62c23c911eec3ba26e5a651b68fb2a61"
  },
  "kernelspec": {
   "display_name": "Python 3 (ipykernel)",
   "language": "python",
   "name": "python3"
  },
  "language_info": {
   "codemirror_mode": {
    "name": "ipython",
    "version": 3
   },
   "file_extension": ".py",
   "mimetype": "text/x-python",
   "name": "python",
   "nbconvert_exporter": "python",
   "pygments_lexer": "ipython3",
   "version": "3.9.17"
  },
  "toc": {
   "base_numbering": 1,
   "nav_menu": {},
   "number_sections": true,
   "sideBar": true,
   "skip_h1_title": false,
   "title_cell": "Table of Contents",
   "title_sidebar": "Contents",
   "toc_cell": false,
   "toc_position": {},
   "toc_section_display": true,
   "toc_window_display": false
  },
  "varInspector": {
   "cols": {
    "lenName": 16,
    "lenType": 16,
    "lenVar": 40
   },
   "kernels_config": {
    "python": {
     "delete_cmd_postfix": "",
     "delete_cmd_prefix": "del ",
     "library": "var_list.py",
     "varRefreshCmd": "print(var_dic_list())"
    },
    "r": {
     "delete_cmd_postfix": ") ",
     "delete_cmd_prefix": "rm(",
     "library": "var_list.r",
     "varRefreshCmd": "cat(var_dic_list()) "
    }
   },
   "types_to_exclude": [
    "module",
    "function",
    "builtin_function_or_method",
    "instance",
    "_Feature"
   ],
   "window_display": false
  }
 },
 "nbformat": 4,
 "nbformat_minor": 2
}
